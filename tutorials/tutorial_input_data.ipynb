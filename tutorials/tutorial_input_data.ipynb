{
 "cells": [
  {
   "cell_type": "markdown",
   "id": "a4fd6354",
   "metadata": {},
   "source": [
    "# InputData tutorial\n",
    "\n",
    "The input data object is the default format in which the infrastructure sends the data to the model. You can think about it as a dictionary where the key is the name of the sensor and the type (\"ID:TYPE\") and the value is a Pandas DataFrame. It also has some internal validation which ensures that the data used will always have the same format.\n",
    "\n",
    "A simple way to initialize it is by using the classmethod `InputData.from_long_df`. This method will take a pandas DataFrame in long format with columns `[\"ID\", \"TYPE\", \"TIME\", \"VALUE\"]` and return an InputData object:"
   ]
  },
  {
   "cell_type": "code",
   "execution_count": 1,
   "id": "b0797171-2587-4a36-915a-e77fd53ecd33",
   "metadata": {},
   "outputs": [
    {
     "data": {
      "text/html": [
       "<div>\n",
       "<style scoped>\n",
       "    .dataframe tbody tr th:only-of-type {\n",
       "        vertical-align: middle;\n",
       "    }\n",
       "\n",
       "    .dataframe tbody tr th {\n",
       "        vertical-align: top;\n",
       "    }\n",
       "\n",
       "    .dataframe thead th {\n",
       "        text-align: right;\n",
       "    }\n",
       "</style>\n",
       "<table border=\"1\" class=\"dataframe\">\n",
       "  <thead>\n",
       "    <tr style=\"text-align: right;\">\n",
       "      <th></th>\n",
       "      <th>TIME</th>\n",
       "      <th>ID</th>\n",
       "      <th>TYPE</th>\n",
       "      <th>VALUE</th>\n",
       "    </tr>\n",
       "  </thead>\n",
       "  <tbody>\n",
       "    <tr>\n",
       "      <th>0</th>\n",
       "      <td>2024-01-01 00:00:00</td>\n",
       "      <td>SENSOR1</td>\n",
       "      <td>TYPE1</td>\n",
       "      <td>32</td>\n",
       "    </tr>\n",
       "    <tr>\n",
       "      <th>1</th>\n",
       "      <td>2024-01-01 01:00:00</td>\n",
       "      <td>SENSOR1</td>\n",
       "      <td>TYPE1</td>\n",
       "      <td>30</td>\n",
       "    </tr>\n",
       "    <tr>\n",
       "      <th>2</th>\n",
       "      <td>2024-01-01 02:00:00</td>\n",
       "      <td>SENSOR1</td>\n",
       "      <td>TYPE1</td>\n",
       "      <td>43</td>\n",
       "    </tr>\n",
       "    <tr>\n",
       "      <th>3</th>\n",
       "      <td>2024-01-01 03:00:00</td>\n",
       "      <td>SENSOR1</td>\n",
       "      <td>TYPE1</td>\n",
       "      <td>63</td>\n",
       "    </tr>\n",
       "    <tr>\n",
       "      <th>4</th>\n",
       "      <td>2024-01-01 04:00:00</td>\n",
       "      <td>SENSOR1</td>\n",
       "      <td>TYPE1</td>\n",
       "      <td>63</td>\n",
       "    </tr>\n",
       "  </tbody>\n",
       "</table>\n",
       "</div>"
      ],
      "text/plain": [
       "                 TIME       ID   TYPE  VALUE\n",
       "0 2024-01-01 00:00:00  SENSOR1  TYPE1     32\n",
       "1 2024-01-01 01:00:00  SENSOR1  TYPE1     30\n",
       "2 2024-01-01 02:00:00  SENSOR1  TYPE1     43\n",
       "3 2024-01-01 03:00:00  SENSOR1  TYPE1     63\n",
       "4 2024-01-01 04:00:00  SENSOR1  TYPE1     63"
      ]
     },
     "execution_count": 1,
     "metadata": {},
     "output_type": "execute_result"
    }
   ],
   "source": [
    "import pandas as pd\n",
    "from twinn_ml_interface.input_data import InputData\n",
    "\n",
    "df = pd.read_parquet(\"tutorial_data/mock_data.parquet\")\n",
    "df.head()"
   ]
  },
  {
   "cell_type": "code",
   "execution_count": 2,
   "id": "d40bea12-ff4d-46e9-aba5-8afc9ede8f0d",
   "metadata": {},
   "outputs": [],
   "source": [
    "input_data = InputData.from_long_df(df)"
   ]
  },
  {
   "cell_type": "markdown",
   "id": "700021b0",
   "metadata": {},
   "source": [
    "Using the InputData format instead of the long format means that we can work with the different types of data independently, and there is no need to constantly filter the different types of signal from a long dataframe. For example, if we want to operate with `\"SENSOR2:TYPE2\"` to make it constant, we can do:"
   ]
  },
  {
   "cell_type": "code",
   "execution_count": 3,
   "id": "4c53ac97",
   "metadata": {},
   "outputs": [
    {
     "data": {
      "text/html": [
       "<div>\n",
       "<style scoped>\n",
       "    .dataframe tbody tr th:only-of-type {\n",
       "        vertical-align: middle;\n",
       "    }\n",
       "\n",
       "    .dataframe tbody tr th {\n",
       "        vertical-align: top;\n",
       "    }\n",
       "\n",
       "    .dataframe thead th {\n",
       "        text-align: right;\n",
       "    }\n",
       "</style>\n",
       "<table border=\"1\" class=\"dataframe\">\n",
       "  <thead>\n",
       "    <tr style=\"text-align: right;\">\n",
       "      <th></th>\n",
       "      <th>SENSOR2:TYPE2</th>\n",
       "    </tr>\n",
       "    <tr>\n",
       "      <th>TIME</th>\n",
       "      <th></th>\n",
       "    </tr>\n",
       "  </thead>\n",
       "  <tbody>\n",
       "    <tr>\n",
       "      <th>2024-01-01 00:00:00</th>\n",
       "      <td>0</td>\n",
       "    </tr>\n",
       "    <tr>\n",
       "      <th>2024-01-01 01:00:00</th>\n",
       "      <td>0</td>\n",
       "    </tr>\n",
       "    <tr>\n",
       "      <th>2024-01-01 02:00:00</th>\n",
       "      <td>0</td>\n",
       "    </tr>\n",
       "    <tr>\n",
       "      <th>2024-01-01 03:00:00</th>\n",
       "      <td>0</td>\n",
       "    </tr>\n",
       "    <tr>\n",
       "      <th>2024-01-01 04:00:00</th>\n",
       "      <td>0</td>\n",
       "    </tr>\n",
       "  </tbody>\n",
       "</table>\n",
       "</div>"
      ],
      "text/plain": [
       "                     SENSOR2:TYPE2\n",
       "TIME                              \n",
       "2024-01-01 00:00:00              0\n",
       "2024-01-01 01:00:00              0\n",
       "2024-01-01 02:00:00              0\n",
       "2024-01-01 03:00:00              0\n",
       "2024-01-01 04:00:00              0"
      ]
     },
     "execution_count": 3,
     "metadata": {},
     "output_type": "execute_result"
    }
   ],
   "source": [
    "my_signal = \"SENSOR2:TYPE2\"\n",
    "input_data[my_signal].loc[:, my_signal] = 0\n",
    "input_data[my_signal].head()"
   ]
  },
  {
   "cell_type": "markdown",
   "id": "073907fa",
   "metadata": {},
   "source": [
    "As working with long format dataframes can also be handy to get some aggregated information, we have added some information as properties of the InputData:"
   ]
  },
  {
   "cell_type": "code",
   "execution_count": 4,
   "id": "86f0c4e0",
   "metadata": {},
   "outputs": [
    {
     "name": "stdout",
     "output_type": "stream",
     "text": [
      "max time: 2024-01-02 01:00:00\n",
      "min time: 2024-01-01 00:00:00\n",
      "unit codes: {'SENSOR3', 'SENSOR1', 'SENSOR4', 'SENSOR2'}\n",
      "unit tags: {'SENSOR4:TYPE4', 'SENSOR2:TYPE2', 'SENSOR3:TYPE3', 'SENSOR1:TYPE1'}\n"
     ]
    }
   ],
   "source": [
    "print(\"max time:\", input_data.max_datetime)\n",
    "print(\"min time:\", input_data.min_datetime)\n",
    "print(\"unit codes:\", input_data.unit_codes)\n",
    "print(\"unit tags:\", input_data.unit_tags)"
   ]
  },
  {
   "cell_type": "markdown",
   "id": "2b9c140b",
   "metadata": {},
   "source": [
    "The InputData object guarantees that the data is sorted for any new dataframe that is added:"
   ]
  },
  {
   "cell_type": "code",
   "execution_count": 5,
   "id": "1c231974",
   "metadata": {},
   "outputs": [],
   "source": [
    "from datetime import timedelta\n",
    "\n",
    "unit_tag = 'SENSOR1:TYPE1'\n",
    "original_df = input_data[unit_tag].copy()\n",
    "shuffled_data = input_data[unit_tag].sample(frac=1)\n",
    "\n",
    "assert not shuffled_data.equals(original_df)\n",
    "\n",
    "input_data[unit_tag] = shuffled_data\n",
    "\n",
    "assert input_data[unit_tag].equals(original_df)"
   ]
  }
 ],
 "metadata": {
  "kernelspec": {
   "display_name": "Python 3 (ipykernel)",
   "language": "python",
   "name": "python3"
  },
  "language_info": {
   "codemirror_mode": {
    "name": "ipython",
    "version": 3
   },
   "file_extension": ".py",
   "mimetype": "text/x-python",
   "name": "python",
   "nbconvert_exporter": "python",
   "pygments_lexer": "ipython3",
   "version": "3.10.13"
  }
 },
 "nbformat": 4,
 "nbformat_minor": 5
}
