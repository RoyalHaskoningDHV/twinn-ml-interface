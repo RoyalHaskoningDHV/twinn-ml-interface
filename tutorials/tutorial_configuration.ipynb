{
 "cells": [
  {
   "cell_type": "markdown",
   "id": "a4fd6354",
   "metadata": {},
   "source": [
    "# Configuration tutorial\n",
    "\n",
    "The Configuration object is passed by the infrastructure to the model during in the `initialize` and the `load` methods. It can be used by the model mainly to request information about different units. Note that the Configuration will already be initialized when passed to the models, so the only thing the models need to worry about is to interact with it though the methods shown in the Protocol. For demonstration purposes, we will use the `ConfigurationMock`."
   ]
  },
  {
   "cell_type": "code",
   "execution_count": 1,
   "id": "4c53ac97",
   "metadata": {},
   "outputs": [],
   "source": [
    "from twinn_ml_interface.mocks import ConfigurationMock\n",
    "from twinn_ml_interface.objectmodels import Unit, Tag, UnitTag\n",
    "\n",
    "## Mock, the model will already receive the initialized Configuration. This mock it's for demonstration purposes, so the method return arguments are fixed\n",
    "config = ConfigurationMock(\n",
    "    target_name=\"PUMPING_STATION1\",\n",
    "    modelled_unit_code=\"PUMP1\",\n",
    "    unit_properties={\"PUMP1\": {\"MAX_RPM\": 1500, \"MIN_RPM\": 0}, \"PUMP2\": {\"MAX_RPM\": 1200, \"MIN_RPM\": 0}},\n",
    "    units=[Unit(\"PUMP1\", \"PRESSURE\", True), Unit(\"PUMP2\", \"PRESSURE\", True)],\n",
    "    unit_tags=[UnitTag(Unit(\"PUMP1\", \"PRESSURE\", True), Tag(\"PRESSURE\")), UnitTag(Unit(\"PUMP2\", \"PRESSURE\", True), Tag(\"PRESSURE\"))]\n",
    ")"
   ]
  },
  {
   "cell_type": "markdown",
   "id": "2019adf7",
   "metadata": {},
   "source": [
    "During the model run, we can use some unit properties to validate our data. In order to get those unit properties, we can use the configuration:"
   ]
  },
  {
   "cell_type": "code",
   "execution_count": 2,
   "id": "3bf4f5de",
   "metadata": {},
   "outputs": [
    {
     "name": "stdout",
     "output_type": "stream",
     "text": [
      "The unit we are modelling is: PUMP1\n",
      "The properties of that unit are {'MAX_RPM': 1500, 'MIN_RPM': 0}\n"
     ]
    }
   ],
   "source": [
    "print(\"The unit we are modelling is:\", config.modelled_unit_code)\n",
    "print(\"The properties of that unit are\", config.get_unit_properties(config.modelled_unit_code))"
   ]
  },
  {
   "cell_type": "markdown",
   "id": "4c2889c9",
   "metadata": {},
   "source": [
    "If we want to get the neighboring pumps, we can navigate though the hierarchy with the method `get_units`. We can do so by going one level up in the hierarchy, and then one level down."
   ]
  },
  {
   "cell_type": "code",
   "execution_count": 3,
   "id": "c90746c6",
   "metadata": {},
   "outputs": [
    {
     "data": {
      "text/plain": [
       "[Unit(unit_code='PUMP1', unit_type_code='PRESSURE', active=True, name=None, unit_type_name=None, geometry=None, properties=None, metadata=None),\n",
       " Unit(unit_code='PUMP2', unit_type_code='PRESSURE', active=True, name=None, unit_type_name=None, geometry=None, properties=None, metadata=None)]"
      ]
     },
     "execution_count": 3,
     "metadata": {},
     "output_type": "execute_result"
    }
   ],
   "source": [
    "from twinn_ml_interface.objectmodels import RelativeType\n",
    "config.get_units(\"PUMP1\", [RelativeType.PARENT, RelativeType.CHILDREN])"
   ]
  },
  {
   "cell_type": "markdown",
   "id": "82558807",
   "metadata": {},
   "source": [
    "After navigating though the tree, we see that there is a second pump. Se can also get the unit properties of this pump:"
   ]
  },
  {
   "cell_type": "code",
   "execution_count": 4,
   "id": "6b40f422",
   "metadata": {},
   "outputs": [
    {
     "name": "stdout",
     "output_type": "stream",
     "text": [
      "The properties of that unit are {'MAX_RPM': 1200, 'MIN_RPM': 0}\n"
     ]
    }
   ],
   "source": [
    "print(\"The properties of that unit are\", config.get_unit_properties(\"PUMP2\"))"
   ]
  }
 ],
 "metadata": {
  "kernelspec": {
   "display_name": "Python 3 (ipykernel)",
   "language": "python",
   "name": "python3"
  },
  "language_info": {
   "codemirror_mode": {
    "name": "ipython",
    "version": 3
   },
   "file_extension": ".py",
   "mimetype": "text/x-python",
   "name": "python",
   "nbconvert_exporter": "python",
   "pygments_lexer": "ipython3",
   "version": "3.10.13"
  }
 },
 "nbformat": 4,
 "nbformat_minor": 5
}
